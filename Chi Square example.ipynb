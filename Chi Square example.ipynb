{
 "cells": [
  {
   "cell_type": "code",
   "execution_count": 1,
   "metadata": {},
   "outputs": [],
   "source": [
    "#Import libraries\n",
    "import pandas as pd\n",
    "import random\n",
    "import numpy as np"
   ]
  },
  {
   "cell_type": "code",
   "execution_count": 10,
   "metadata": {},
   "outputs": [],
   "source": [
    "#Create toy dataset \n",
    "Student_Sex = ['Male', 'Female']\n",
    "Teacher_name = ['Smith', 'Hong']\n",
    "\n",
    "df = pd.DataFrame(columns = ['Student_ID', 'Student_Sex', 'Teacher_Name', 'Student_Grade'])\n",
    "df['Student_ID'] = list(range(100))\n",
    "df['Student_Sex'] = random.choices(Student_Sex, k=100) #random selection of student sex, with replacement, 100 times\n",
    "df['Teacher_Name'] = random.choices(Teacher_name, k=100) #random selection of teacher name, with replacement, 100 times\n",
    "df['Student_Grade'] = random.sample(range(100), 100)"
   ]
  },
  {
   "cell_type": "code",
   "execution_count": 11,
   "metadata": {},
   "outputs": [
    {
     "data": {
      "text/html": [
       "<div>\n",
       "<style scoped>\n",
       "    .dataframe tbody tr th:only-of-type {\n",
       "        vertical-align: middle;\n",
       "    }\n",
       "\n",
       "    .dataframe tbody tr th {\n",
       "        vertical-align: top;\n",
       "    }\n",
       "\n",
       "    .dataframe thead th {\n",
       "        text-align: right;\n",
       "    }\n",
       "</style>\n",
       "<table border=\"1\" class=\"dataframe\">\n",
       "  <thead>\n",
       "    <tr style=\"text-align: right;\">\n",
       "      <th></th>\n",
       "      <th>Student_ID</th>\n",
       "      <th>Student_Sex</th>\n",
       "      <th>Teacher_Name</th>\n",
       "      <th>Student_Grade</th>\n",
       "    </tr>\n",
       "  </thead>\n",
       "  <tbody>\n",
       "    <tr>\n",
       "      <th>0</th>\n",
       "      <td>0</td>\n",
       "      <td>Male</td>\n",
       "      <td>Smith</td>\n",
       "      <td>69</td>\n",
       "    </tr>\n",
       "    <tr>\n",
       "      <th>1</th>\n",
       "      <td>1</td>\n",
       "      <td>Female</td>\n",
       "      <td>Hong</td>\n",
       "      <td>27</td>\n",
       "    </tr>\n",
       "    <tr>\n",
       "      <th>2</th>\n",
       "      <td>2</td>\n",
       "      <td>Male</td>\n",
       "      <td>Smith</td>\n",
       "      <td>50</td>\n",
       "    </tr>\n",
       "    <tr>\n",
       "      <th>3</th>\n",
       "      <td>3</td>\n",
       "      <td>Female</td>\n",
       "      <td>Smith</td>\n",
       "      <td>5</td>\n",
       "    </tr>\n",
       "    <tr>\n",
       "      <th>4</th>\n",
       "      <td>4</td>\n",
       "      <td>Female</td>\n",
       "      <td>Smith</td>\n",
       "      <td>83</td>\n",
       "    </tr>\n",
       "  </tbody>\n",
       "</table>\n",
       "</div>"
      ],
      "text/plain": [
       "   Student_ID Student_Sex Teacher_Name  Student_Grade\n",
       "0           0        Male        Smith             69\n",
       "1           1      Female         Hong             27\n",
       "2           2        Male        Smith             50\n",
       "3           3      Female        Smith              5\n",
       "4           4      Female        Smith             83"
      ]
     },
     "execution_count": 11,
     "metadata": {},
     "output_type": "execute_result"
    }
   ],
   "source": [
    "#Inspect datset\n",
    "df.head()"
   ]
  },
  {
   "cell_type": "markdown",
   "metadata": {},
   "source": [
    "We are interested in whether there is a difference in distribution of male and female students across Professor Hong and Professor Smith's classes"
   ]
  },
  {
   "cell_type": "code",
   "execution_count": 17,
   "metadata": {},
   "outputs": [],
   "source": [
    "#Null hypothesis: There is no difference in the distribution of male and female students across teachers\n",
    "#Alternate hypothesis: There is a difference in distrubution of male and female students across teachers\n",
    "#Two tailed test"
   ]
  },
  {
   "cell_type": "code",
   "execution_count": 13,
   "metadata": {},
   "outputs": [
    {
     "name": "stdout",
     "output_type": "stream",
     "text": [
      "Teacher_Name  Hong  Smith\n",
      "Student_Sex              \n",
      "Female          22     27\n",
      "Male            32     19\n"
     ]
    }
   ],
   "source": [
    "#Create contingency table\n",
    "data_crosstab = pd.crosstab(df.Student_Sex, df.Teacher_Name, \n",
    "                             margins = False)\n",
    "print(data_crosstab)"
   ]
  },
  {
   "cell_type": "code",
   "execution_count": 19,
   "metadata": {},
   "outputs": [
    {
     "name": "stdout",
     "output_type": "stream",
     "text": [
      "test stat= 2.5262278824573317 p-value= 0.11196759334449881 degrees of freedom= 1\n"
     ]
    }
   ],
   "source": [
    "#Conduct Chi square analysis for independence\n",
    "from scipy.stats import chi2_contingency\n",
    "\n",
    "test, p, df, array = chi2_contingency(data_crosstab)\n",
    "print('test stat=', t, 'p-value=', p, \"degrees of freedom=\", df)"
   ]
  },
  {
   "cell_type": "code",
   "execution_count": 18,
   "metadata": {},
   "outputs": [],
   "source": [
    "#Conclusion: fail to reject the null hypothesis. There is not enough evidence to say there is a difference in distrubution of male and female students across teachers"
   ]
  },
  {
   "cell_type": "code",
   "execution_count": null,
   "metadata": {},
   "outputs": [],
   "source": []
  }
 ],
 "metadata": {
  "kernelspec": {
   "display_name": "Python 3",
   "language": "python",
   "name": "python3"
  },
  "language_info": {
   "codemirror_mode": {
    "name": "ipython",
    "version": 3
   },
   "file_extension": ".py",
   "mimetype": "text/x-python",
   "name": "python",
   "nbconvert_exporter": "python",
   "pygments_lexer": "ipython3",
   "version": "3.8.5"
  }
 },
 "nbformat": 4,
 "nbformat_minor": 4
}
